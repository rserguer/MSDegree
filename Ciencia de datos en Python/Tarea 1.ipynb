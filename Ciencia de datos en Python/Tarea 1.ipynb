{
 "cells": [
  {
   "cell_type": "markdown",
   "metadata": {},
   "source": [
    "# Tarea 1: Version Control (Git)\n",
    "**(Rubén González 20003314)**\n",
    "\n",
    "A continuacion se presenta un ensayo con lo aprendido en el curso virtual de Git impartido en MIT."
   ]
  },
  {
   "cell_type": "markdown",
   "metadata": {},
   "source": [
    "### Qué es un sistema de control de versiones?\n",
    "Es una herramienta que se utiliza para llevar un registro histórico de los cambios realizados a los archivos que se encuentran dentro del alcance de esta herramienta. Para que esto funcione se le define el alcance que por lo general es una carpeta y todos los archivos dentro de esta carpeta serán manejados por esta herramienta."
   ]
  },
  {
   "cell_type": "markdown",
   "metadata": {},
   "source": [
    "#### Ventajas de utilizar Git\n",
    "* Conserva un historial de cambios realizados a los archivos.\n",
    "* Mantiene metadata de los archivos, datos como quien hizo el cambio, la descripcion del cambio, etc.\n",
    "* Ayuda a que muchas personas puedan trabajar de manera paralela cambios dentro del mismo repositorio.\n",
    "* Mejora la manera de auditar los cambios.\n",
    "* Mejora la resolución de conflictos.\n",
    "* Centraliza el codigo fuente."
   ]
  },
  {
   "cell_type": "markdown",
   "metadata": {},
   "source": [
    "#### Modelo de datos de Git\n",
    "##### Snapshots\n",
    "Git define un directorio que contendrá la colección de carpetas y archivos a los cuales se les llevará el registro histórico. En la terminología de Git a cada archivo se le llama \"blob\" y cada folder se le llama \"tree\" y puede contener otros objetos \"tree\" y \"blob\". Un snapshot es la instancia mas alta del árbol que está siendo trackeado."
   ]
  },
  {
   "cell_type": "markdown",
   "metadata": {},
   "source": [
    "Cada imagen tomada del estatus del repositorio se le llama commit y la idea es que se realicen commits a lo largo del tiempo. Cada commit almacena una lista completa de los commits de los cuales desciende. \n",
    "\n",
    "<img src=\"https://whbboyd.com/articles/resources/git-diagram-1.svg\">"
   ]
  },
  {
   "cell_type": "markdown",
   "metadata": {},
   "source": [
    "Nota: Los commits en GIT no pueden eliminarse, lo que significa que para revertir algún cambio que no debio subirse en algún commit se debe de crear otro commit para revertir el cambio."
   ]
  },
  {
   "cell_type": "markdown",
   "metadata": {},
   "source": [
    "A todos los objetos de Git se les asigna un codigo HASH único. Los objetos de Git pueden ser tees, blobs o commits. Esto ayuda mucho al momento de que estos objetos tienen referencia a otro, realmente lo que guardan es su apuntador o su Hash ID. Esto optimiza su búsqueda en memoria."
   ]
  },
  {
   "cell_type": "markdown",
   "metadata": {},
   "source": [
    "#### References\n",
    "Para un mejor orden de los objetos referenciados, GIT permite nombrar a cada commit y ese nombre ser asociado al código hash asignado al commit de tal forma que los equipos de desarrollo puedan facilmente identificar un commit por su nombre en vez de únicamente por el código Hash haciendolo más entendible para los usuarios."
   ]
  },
  {
   "cell_type": "markdown",
   "metadata": {},
   "source": [
    "#### Repositorios\n",
    "En Git un repositorio es un conjunto de objetos y sus referencias o apuntadores. Todo cambio o manipulación de estos corresponde a un nuevo commit dentro del repositorio."
   ]
  },
  {
   "cell_type": "markdown",
   "metadata": {},
   "source": [
    "### Staging area\n",
    "Es la forma en la cual git nos permite seleccionar dentro de nuestro repositorio local qué archivos serán seleccionados para crear un commit. Esto es muy útil para llevar un orden lógico de qué cambios agrupados sí pertenecerán a un commit o no. Es también una forma de asegurar los cambios que se subirán al commit y así evitar revertir cambios de commits. Usualmente luego de esa fase se realiza un commit en nuestro repositorio para luego hacer push hacia el repositorio remoto.\n",
    "\n",
    "<img src=\"https://neurathsboat.blog/post/git-intro/featured.png\">"
   ]
  },
  {
   "cell_type": "markdown",
   "metadata": {},
   "source": [
    "## Comandos desde Jupyter\n",
    "Para ejecutar comandos de la consola desde Jupyter se debe utilizar un bloque tipo Code y anteponerle el símbolo \"%\" seguido de este colocar los comandos cmd normales, un ejemplo clásico de este es obtener información del directorio actual:"
   ]
  },
  {
   "cell_type": "code",
   "execution_count": null,
   "metadata": {},
   "outputs": [],
   "source": [
    "%ls"
   ]
  },
  {
   "cell_type": "markdown",
   "metadata": {},
   "source": [
    "O Saber el directorio actual donde estamos trabajando:"
   ]
  },
  {
   "cell_type": "code",
   "execution_count": null,
   "metadata": {},
   "outputs": [],
   "source": [
    "!dir"
   ]
  },
  {
   "cell_type": "markdown",
   "metadata": {},
   "source": [
    "Antes de utilizar Git se procedera a crear un folder en el disco C con un archivo de texto, si desea favor cambiar el directorio. "
   ]
  },
  {
   "cell_type": "code",
   "execution_count": null,
   "metadata": {},
   "outputs": [],
   "source": [
    "%mkdir C:\\testgitHub\n",
    "%cd C:\\testgitHub\n",
    "!NUL > NewFile.txt\n",
    "!dir"
   ]
  },
  {
   "cell_type": "markdown",
   "metadata": {},
   "source": [
    "## Comandos Git\n",
    "Git proporciona una interfaz de consola para ejecutar sus comandos. Para hacerlo desde Jupyter se debe anteponer el símbolo \"!\" seguido del comando git. A continuación se muestran algunos comandos básicos de git:"
   ]
  },
  {
   "cell_type": "markdown",
   "metadata": {},
   "source": [
    "#### Comando Help\n",
    "Abre una ventana del explorador de internet por default para mostrar información del comando que sigue a partir de la palabra help. Ayuda a saber como utilizar cada comando de git. En el siguiente ejemplo nos muestra la ayuda de la palabra init."
   ]
  },
  {
   "cell_type": "code",
   "execution_count": null,
   "metadata": {},
   "outputs": [],
   "source": [
    "!git help init"
   ]
  },
  {
   "cell_type": "markdown",
   "metadata": {},
   "source": [
    "#### Comando init\n",
    "Crea un nuevo repositorio git, almacenará sus objetos y referencias en el directorio .git"
   ]
  },
  {
   "cell_type": "code",
   "execution_count": null,
   "metadata": {},
   "outputs": [],
   "source": [
    "!git init"
   ]
  },
  {
   "cell_type": "markdown",
   "metadata": {},
   "source": [
    "#### Comando status\n",
    "Muestra el estatus actual del repositorio"
   ]
  },
  {
   "cell_type": "code",
   "execution_count": null,
   "metadata": {},
   "outputs": [],
   "source": [
    "!git status"
   ]
  },
  {
   "cell_type": "markdown",
   "metadata": {},
   "source": [
    "#### Comando add\n",
    "Agrega un nuevo archivo al repositorio recién creado. Para el ejemplo se creara primero el archivo con comandos y luego se añadira al repositorio."
   ]
  },
  {
   "cell_type": "code",
   "execution_count": null,
   "metadata": {},
   "outputs": [],
   "source": [
    "!git add NewFile.txt\n",
    "!git status"
   ]
  },
  {
   "cell_type": "markdown",
   "metadata": {},
   "source": [
    "#### Comando commit\n",
    "Se realiza commit de los cambios realizados y se creará un nuevo snapshot. (El reciente archivo agregado). Esto funcionara siempre y cuando se tenga configurado un usuario pues es un requerimiento obligatorio por parte de Git. Por eso tambien introducimos los comandos config para definir nuestro usuario. Para hacer este ejercicio debera sustituir mis credenciales por sus credenciales validas de Git."
   ]
  },
  {
   "cell_type": "code",
   "execution_count": null,
   "metadata": {},
   "outputs": [],
   "source": [
    "!git config --global user.email \"ruben.gonzalezmonterroso.galileo.edu\"\n",
    "!git config --global user.name \"rub3ng0nzalez\"\n",
    "!git commit -m \"First file added\""
   ]
  },
  {
   "cell_type": "markdown",
   "metadata": {},
   "source": [
    "#### Comando log\n",
    "Muestra un historico de los commit realizados en el repositorio."
   ]
  },
  {
   "cell_type": "code",
   "execution_count": null,
   "metadata": {},
   "outputs": [],
   "source": [
    "!git log"
   ]
  },
  {
   "cell_type": "markdown",
   "metadata": {},
   "source": [
    "#### Comando log con detalles\n",
    "Muestra un historico de los commit realizados en el repositorio de manera gráfica"
   ]
  },
  {
   "cell_type": "code",
   "execution_count": null,
   "metadata": {},
   "outputs": [],
   "source": [
    "!git log --all --graph --decorate"
   ]
  },
  {
   "cell_type": "markdown",
   "metadata": {},
   "source": [
    "#### Comando diff\n",
    "Muestra las diferencias de un archivo especifico en relación con el último commit. Para ello primero procedemos a hacerle la modificación a nuestro archivo de texto usando el comando echo para agregarle un texto de prueba y luego a utilizar este comando."
   ]
  },
  {
   "cell_type": "code",
   "execution_count": null,
   "metadata": {},
   "outputs": [],
   "source": [
    "!echo Texto de prueba>NewFile.txt"
   ]
  },
  {
   "cell_type": "code",
   "execution_count": null,
   "metadata": {},
   "outputs": [],
   "source": [
    "!git diff NewFile.txt"
   ]
  },
  {
   "cell_type": "markdown",
   "metadata": {},
   "source": [
    "Procederemos ahora a hacer un commit del cambio de nuestro archivo:"
   ]
  },
  {
   "cell_type": "code",
   "execution_count": null,
   "metadata": {},
   "outputs": [],
   "source": [
    "!git add NewFile.txt\n",
    "!git commit -m \"First lines added to our file\"\n",
    "!git status"
   ]
  },
  {
   "cell_type": "code",
   "execution_count": null,
   "metadata": {},
   "outputs": [],
   "source": [
    "!git log --all --graph --decorate"
   ]
  },
  {
   "cell_type": "markdown",
   "metadata": {},
   "source": [
    "#### Comando branch\n",
    "Muestra los branches de nuestro repositorio. Tambien es usado para crear branches nuevos agregando un nombre del branch al final."
   ]
  },
  {
   "cell_type": "code",
   "execution_count": null,
   "metadata": {},
   "outputs": [],
   "source": [
    "!git branch"
   ]
  },
  {
   "cell_type": "code",
   "execution_count": null,
   "metadata": {},
   "outputs": [],
   "source": [
    "!git branch PrimerBranch\n",
    "!git branch"
   ]
  },
  {
   "cell_type": "markdown",
   "metadata": {},
   "source": [
    "Como se puede ver, lista todos los branches. El branch master es donde estamos y por eso tiene un \"*\". Si quisieramos pasarnos al branch llamado PrimerBranch usamos el siguiente comando:"
   ]
  },
  {
   "cell_type": "code",
   "execution_count": null,
   "metadata": {},
   "outputs": [],
   "source": [
    "!git checkout PrimerBranch\n",
    "!git branch"
   ]
  },
  {
   "cell_type": "markdown",
   "metadata": {},
   "source": [
    "El puntero cambio a nuestro nuevo Branch."
   ]
  },
  {
   "cell_type": "markdown",
   "metadata": {},
   "source": [
    "Hasta aquí llegará el ejemplo interactivo de comandos git pues los siguientes comandos a explicar conllevan branches remotos y la utilización de los comandos fetch, pull y push. Hemos abarcado lo que conceptualmente se realiza desde un repo local."
   ]
  },
  {
   "cell_type": "markdown",
   "metadata": {},
   "source": [
    "#### Comando remote\n",
    "Lista los repositorios remotos:\n",
    "!git remote\n",
    "\n",
    "Agrega un repositorio remoto:\n",
    "\n",
    "\"!git remote add < name > < url >\"\n"
   ]
  },
  {
   "cell_type": "markdown",
   "metadata": {},
   "source": [
    "#### Comando push\n",
    "Luego de un commit, envia los objetos de ese commit al repositorio remoto.  \n",
    "!git push < remote > < local branch >:< remote branch >"
   ]
  },
  {
   "cell_type": "markdown",
   "metadata": {},
   "source": [
    "#### Comando fetch\n",
    "Compara el estatus de los repositorios remotos con el actual e indica si han realizado cambios.  \n",
    "!git fetch"
   ]
  },
  {
   "cell_type": "markdown",
   "metadata": {},
   "source": [
    " #### Comando pull\n",
    "Descarga la versión del repositorio remoto hacia nuestro repositorio local  \n",
    "!git pull"
   ]
  },
  {
   "cell_type": "markdown",
   "metadata": {},
   "source": [
    "#### Comando clone\n",
    "Descarga un repositorio remoto hacia nuestro repositorio local. Por lo general se realiza cuando no se tenia ese repositorio en nuestra máquina local.  \n",
    "!git clone"
   ]
  }
 ],
 "metadata": {
  "kernelspec": {
   "display_name": "Python 3",
   "language": "python",
   "name": "python3"
  },
  "language_info": {
   "codemirror_mode": {
    "name": "ipython",
    "version": 3
   },
   "file_extension": ".py",
   "mimetype": "text/x-python",
   "name": "python",
   "nbconvert_exporter": "python",
   "pygments_lexer": "ipython3",
   "version": "3.7.6"
  }
 },
 "nbformat": 4,
 "nbformat_minor": 2
}
