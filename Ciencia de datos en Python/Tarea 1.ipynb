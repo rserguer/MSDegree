{
 "cells": [
  {
   "cell_type": "markdown",
   "metadata": {},
   "source": [
    "# Tarea 1: Version Control (Git)\n",
    "**(Rubén González 20003314)**\n",
    "\n",
    "A continuacion se presenta un ensayo con lo aprendido en el curso virtual de Git impartido en MIT."
   ]
  },
  {
   "cell_type": "markdown",
   "metadata": {},
   "source": [
    "### Qué es un sistema de control de versiones?\n",
    "Es una herramienta que se utiliza para llevar un registro histórico de los cambios realizados a los archivos que se encuentran dentro del alcance de esta herramienta. Para que esto funcione se le define el alcance que por lo general es una carpeta y todos los archivos dentro de esta carpeta serán manejados por esta herramienta."
   ]
  },
  {
   "cell_type": "markdown",
   "metadata": {},
   "source": [
    "#### Ventajas de utilizar Git\n",
    "* Conserva un historial de cambios realizados a los archivos.\n",
    "* Mantiene metadata de los archivos, datos como quien hizo el cambio, la descripcion del cambio, etc.\n",
    "* Ayuda a que muchas personas puedan trabajar de manera paralela cambios dentro del mismo repositorio.\n",
    "* Mejora la manera de auditar los cambios.\n",
    "* Mejora la resolución de conflictos.\n",
    "* Centraliza el codigo fuente."
   ]
  },
  {
   "cell_type": "markdown",
   "metadata": {},
   "source": [
    "#### Modelo de datos de Git\n",
    "##### Snapshots\n",
    "Git define un directorio que contendrá la colección de carpetas y archivos a los cuales se les llevará el registro histórico. En la terminología de Git a cada archivo se le llama \"blob\" y cada folder se le llama \"tree\" y puede contener otros objetos \"tree\" y \"blob\". Un snapshot es la instancia mas alta del árbol que está siendo trackeado."
   ]
  },
  {
   "cell_type": "markdown",
   "metadata": {},
   "source": [
    "Cada imagen tomada del estatus del repositorio se le llama commit y la idea es que se realicen commits a lo largo del tiempo. Cada commit almacena una lista completa de los commits de los cuales desciende. \n",
    "\n",
    "<img src=\"https://whbboyd.com/articles/resources/git-diagram-1.svg\">"
   ]
  },
  {
   "cell_type": "markdown",
   "metadata": {},
   "source": [
    "Nota: Los commits en GIT no pueden eliminarse, lo que significa que para revertir algún cambio que no debio subirse en algún commit se debe de crear otro commit para revertir el cambio."
   ]
  },
  {
   "cell_type": "markdown",
   "metadata": {},
   "source": [
    "A todos los objetos de Git se les asigna un codigo HASH único. Los objetos de Git pueden ser tees, blobs o commits. Esto ayuda mucho al momento de que estos objetos tienen referencia a otro, realmente lo que guardan es su apuntador o su Hash ID. Esto optimiza su búsqueda en memoria."
   ]
  },
  {
   "cell_type": "markdown",
   "metadata": {},
   "source": [
    "#### References\n",
    "Para un mejor orden de los objetos referenciados, GIT permite nombrar a cada commit y ese nombre ser asociado al código hash asignado al commit de tal forma que los equipos de desarrollo puedan facilmente identificar un commit por su nombre en vez de únicamente por el código Hash haciendolo más entendible para los usuarios."
   ]
  },
  {
   "cell_type": "markdown",
   "metadata": {},
   "source": [
    "#### Repositorios\n",
    "En Git un repositorio es un conjunto de objetos y sus referencias o apuntadores. Todo cambio o manipulación de estos corresponde a un nuevo commit dentro del repositorio."
   ]
  },
  {
   "cell_type": "markdown",
   "metadata": {},
   "source": [
    "### Staging area\n",
    "Es la forma en la cual git nos permite seleccionar dentro de nuestro repositorio local qué archivos serán seleccionados para crear un commit. Esto es muy útil para llevar un orden lógico de qué cambios agrupados sí pertenecerán a un commit o no. Es también una forma de asegurar los cambios que se subirán al commit y así evitar revertir cambios de commits. Usualmente luego de esa fase se realiza un commit en nuestro repositorio para luego hacer push hacia el repositorio remoto.\n",
    "\n",
    "<img src=\"https://neurathsboat.blog/post/git-intro/featured.png\">"
   ]
  },
  {
   "cell_type": "markdown",
   "metadata": {},
   "source": [
    "### Comandos Git\n",
    "Git proporciona una interfaz de consola para ejecutar sus comandos. A continuación se muestran algunos comandos básicos de git:"
   ]
  },
  {
   "cell_type": "code",
   "execution_count": null,
   "metadata": {},
   "outputs": [],
   "source": []
  }
 ],
 "metadata": {
  "kernelspec": {
   "display_name": "Python 3",
   "language": "python",
   "name": "python3"
  },
  "language_info": {
   "codemirror_mode": {
    "name": "ipython",
    "version": 3
   },
   "file_extension": ".py",
   "mimetype": "text/x-python",
   "name": "python",
   "nbconvert_exporter": "python",
   "pygments_lexer": "ipython3",
   "version": "3.7.6"
  }
 },
 "nbformat": 4,
 "nbformat_minor": 2
}
